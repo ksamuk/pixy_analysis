{
 "cells": [
  {
   "cell_type": "code",
   "execution_count": 8,
   "metadata": {},
   "outputs": [],
   "source": [
    "import allel\n",
    "import zarr\n",
    "import argparse\n",
    "import re\n",
    "import sys\n",
    "import os"
   ]
  },
  {
   "cell_type": "code",
   "execution_count": 9,
   "metadata": {},
   "outputs": [],
   "source": [
    "# parse the vcf location from the command line\n",
    "parser = argparse.ArgumentParser(description='Wrapper to compute pi with scikit-allel for simulated data')\n",
    "parser.add_argument('--vcf', type=str, nargs='?', help='Path to the input VCF', required=True)\n",
    "args = parser.parse_args()\n",
    "\n",
    "# test value\n",
    "#args = parser.parse_args('--vcf ../../simulating-test-data/data/simulated_invar/pi_sim_Ne=1.0e+06_mu=1e-08_samples=100_sites=10000_0_invar.vcf.gz'.split())\n",
    "\n",
    "# parse the arguments\n",
    "# chromosome is always '1' in our simulated data\n",
    "chromosome = '1'\n",
    "vcf_path = args.vcf\n",
    "zarr_path = 'data/zarr/' + re.sub('.*/|.vcf*', '', vcf_path) + '.zarr'"
   ]
  },
  {
   "cell_type": "code",
   "execution_count": 10,
   "metadata": {},
   "outputs": [
    {
     "name": "stdout",
     "output_type": "stream",
     "text": [
      "[vcf_to_zarr] 10000 rows in 0.06s; chunk in 0.06s (163129 rows/s)\n",
      "[vcf_to_zarr] all done (94032 rows/s)\n"
     ]
    }
   ],
   "source": [
    "# generate the zarr array \n",
    "allel.vcf_to_zarr(vcf_path, zarr_path, group=chromosome, fields='*', log=sys.stdout, overwrite=True)\n",
    "callset = zarr.open_group(zarr_path, mode='r')"
   ]
  },
  {
   "cell_type": "code",
   "execution_count": 11,
   "metadata": {},
   "outputs": [],
   "source": [
    "# get a list of samples from the callset\n",
    "samples = callset[chromosome + '/samples'][:]\n",
    "samples_list = list(samples)\n",
    "#print('VCF samples:', samples_list)"
   ]
  },
  {
   "cell_type": "code",
   "execution_count": 12,
   "metadata": {},
   "outputs": [],
   "source": [
    "\n",
    "# window size\n",
    "# this is fixed (1-10000) in our simulated data\n",
    "window_start = 1\n",
    "window_end = 10000\n",
    "window_range = list(range(window_start, window_end))\n",
    "\n",
    "# the genotype calls\n",
    "# recode the gt matrix as a Dask array (saves memory)\n",
    "gt_dask = allel.GenotypeDaskArray(callset[chromosome + '/calldata/GT'])\n",
    "gt_array = allel.GenotypeArray(gt_dask).to_packed()\n",
    "gt_array = allel.GenotypeArray.from_packed(gt_array)\n",
    "\n",
    "pos_array = allel.SortedIndex(callset[chromosome + '/variants/POS'])\n",
    "loc_region = pos_array.locate_range(window_start, window_end)\n",
    "gt_region = gt_array[loc_region]\n",
    "\n",
    "# 50 = number of samples\n",
    "# gt_pop = gt_region.take(range(0,50), axis=1)"
   ]
  },
  {
   "cell_type": "code",
   "execution_count": 13,
   "metadata": {},
   "outputs": [
    {
     "data": {
      "text/plain": [
       "0"
      ]
     },
     "execution_count": 13,
     "metadata": {},
     "output_type": "execute_result"
    }
   ],
   "source": [
    " # create pi name via the prefix\n",
    "sci_pi_file = \"data/pi_out/allel_\" + re.sub('.*/|.vcf*', '', vcf_path) +\"_pi.txt\"\n",
    "outfile = open(sci_pi_file, 'w')\n",
    "outfile.write(\"filename\" + \"\\t\" + \"chromosome\" + \"\\t\" + \"window_pos_1\" + \"\\t\" + \"window_pos_2\" + \"\\t\" + \"sk_allel_avg_pi\" + \"\\t\" + \"sk_allel_no_sites\" + \"\\n\")\n",
    "\n",
    "# compute pi (for the whole region)\n",
    "hap = gt_region.to_haplotypes() \n",
    "ac = hap.count_alleles()\n",
    "pi_est = allel.sequence_diversity(window_range, ac) \n",
    "\n",
    "# write to file\n",
    "outfile.write(re.sub('.*/|.vcf*', '', vcf_path) + \"\\t\" + str(chromosome) + \"\\t\" + str(window_start) + \"\\t\" + str(window_end) + \"\\t\" + str(pi_est) + \"\\t\" + str(len(gt_region)) + \"\\n\")\n",
    "outfile.close()\n",
    "\n",
    "# nuke zarr folder\n",
    "os.system(\"rm -r \" + zarr_path)"
   ]
  }
 ],
 "metadata": {
  "anaconda-cloud": {},
  "kernelspec": {
   "display_name": "pixy",
   "language": "python",
   "name": "pixy"
  },
  "language_info": {
   "codemirror_mode": {
    "name": "ipython",
    "version": 3
   },
   "file_extension": ".py",
   "mimetype": "text/x-python",
   "name": "python",
   "nbconvert_exporter": "python",
   "pygments_lexer": "ipython3",
   "version": "3.7.6"
  }
 },
 "nbformat": 4,
 "nbformat_minor": 4
}
